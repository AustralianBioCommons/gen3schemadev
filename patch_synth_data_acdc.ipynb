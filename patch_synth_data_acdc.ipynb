{
 "cells": [
  {
   "cell_type": "markdown",
   "metadata": {},
   "source": [
    "# Patching Synthetic data for ACDC test platform\n",
    "- Date: 2024-03-16\n",
    "\n",
    "This notebook applies various patches to the synthetic datasets"
   ]
  },
  {
   "cell_type": "markdown",
   "metadata": {},
   "source": [
    "## Functions"
   ]
  },
  {
   "cell_type": "code",
   "execution_count": 47,
   "metadata": {},
   "outputs": [],
   "source": [
    "\n",
    "# function to randomly generate date time\n",
    "import random\n",
    "from datetime import datetime, timedelta\n",
    "import os\n",
    "\n",
    "def gen_random_date_time(num_dates: int, start_date = \"2008-01-01\", end_date = \"2023-03-16\", ):\n",
    "    \"\"\"\n",
    "    Generates a list of random ISO 8601 datetime strings between start_date and end_date.\n",
    "\n",
    "    Parameters:\n",
    "    - start_date (str): The start date in ISO 8601 format (YYYY-MM-DD).\n",
    "    - end_date (str): The end date in ISO 8601 format (YYYY-MM-DD).\n",
    "    - num_dates (int): Number of random dates to generate .\n",
    "\n",
    "    Returns:\n",
    "    - list: A list of random ISO 8601 datetime strings between start_date and end_date.\n",
    "    \"\"\"\n",
    "    start = datetime.fromisoformat(start_date)\n",
    "    end = datetime.fromisoformat(end_date)\n",
    "    \n",
    "    random_dates = []\n",
    "    for _ in range(num_dates):\n",
    "        random_date = start + timedelta(seconds=random.randint(0, int((end - start).total_seconds())))\n",
    "        random_dates.append(random_date.isoformat())\n",
    "\n",
    "    return random_dates\n",
    "\n",
    "\n",
    "def update_json_key_values(base_path: str, json_filename: str, key: str, replacement: list):\n",
    "    \"\"\"\n",
    "    Updates the date values for a specified key in a JSON file with randomly generated dates.\n",
    "\n",
    "    Parameters:\n",
    "    - base_path (str): The base directory path where the JSON file is located.\n",
    "    - json_filename (str): The name of the JSON file to be updated.\n",
    "    - key (str): The key in the JSON file whose values are to be updated with dates.\n",
    "    - replacement (list): The number of random dates to generate for updating.\n",
    "\n",
    "    This function reads the specified JSON file, updates the date values for the given key with\n",
    "    randomly generated dates, and writes the updated data to a new file in an 'output' directory\n",
    "    within the same base path.\n",
    "    \"\"\"\n",
    "    import json\n",
    "    import os\n",
    "    from datetime import datetime, timedelta\n",
    "\n",
    "\n",
    "    # Construct the full path to the JSON file\n",
    "    full_path = os.path.join(base_path, json_filename)\n",
    "\n",
    "    # Reading the JSON file\n",
    "    with open(full_path, 'r') as f:\n",
    "        data = json.load(f)\n",
    "        \n",
    "\n",
    "    # Updating the value of the specified key\n",
    "\n",
    "    if len(data) == len(replacement):\n",
    "        print('editing ' + str(key))# Ensure there's a date for each entry\n",
    "        for i, entry in enumerate(data):\n",
    "            data[i][key] = replacement[i]\n",
    "    elif len(data) < len(replacement):\n",
    "        print('editing ' + str(key))\n",
    "        for i, entry in enumerate(data):\n",
    "            replacement_sub = replacement[0:len(data)]\n",
    "            data[i][key] = replacement_sub[i]\n",
    "    else:\n",
    "        return print('not enough values in replacement list')\n",
    "\n",
    "\n",
    "    # Constructing the path for the output file\n",
    "    output_dir = os.path.join(os.path.dirname(base_path), 'output')\n",
    "    os.makedirs(output_dir, exist_ok=True)  # Ensuring the output directory exists\n",
    "    output_file = os.path.join(output_dir, os.path.basename(json_filename))\n",
    "\n",
    "    # Writing the updated data to a new file in the 'output' directory\n",
    "    print('writing edited json')\n",
    "    with open(output_file, 'w') as f:\n",
    "        json.dump(data, f, indent=4)\n"
   ]
  },
  {
   "cell_type": "code",
   "execution_count": 49,
   "metadata": {},
   "outputs": [
    {
     "name": "stdout",
     "output_type": "stream",
     "text": [
      "editing date\n",
      "writing edited json\n",
      "editing date\n",
      "writing edited json\n",
      "editing date\n",
      "writing edited json\n"
     ]
    }
   ],
   "source": [
    "# updating date for core_metadata_collection\n",
    "update_json_key_values(base_path = 'synthetic_data/20240229_acdc_sim_data/FIELD/', \n",
    "                       json_filename = 'core_metadata_collection.json', \n",
    "                       key = 'date',  \n",
    "                       replacement = gen_random_date_time(20000))\n",
    "\n",
    "update_json_key_values(base_path = 'synthetic_data/20240229_acdc_sim_data/BioHEART-CT/', \n",
    "                       json_filename = 'core_metadata_collection.json', \n",
    "                       key = 'date',  \n",
    "                       replacement = gen_random_date_time(20000))\n",
    "\n",
    "update_json_key_values(base_path = 'synthetic_data/20240229_acdc_sim_data/AusDiab/', \n",
    "                       json_filename = 'core_metadata_collection.json', \n",
    "                       key = 'date',  \n",
    "                       replacement = gen_random_date_time(20000))"
   ]
  }
 ],
 "metadata": {
  "kernelspec": {
   "display_name": ".venv",
   "language": "python",
   "name": "python3"
  },
  "language_info": {
   "codemirror_mode": {
    "name": "ipython",
    "version": 3
   },
   "file_extension": ".py",
   "mimetype": "text/x-python",
   "name": "python",
   "nbconvert_exporter": "python",
   "pygments_lexer": "ipython3",
   "version": "3.9.6"
  }
 },
 "nbformat": 4,
 "nbformat_minor": 2
}
