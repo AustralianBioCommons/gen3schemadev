{
 "cells": [
  {
   "cell_type": "markdown",
   "metadata": {},
   "source": [
    "# "
   ]
  },
  {
   "cell_type": "markdown",
   "metadata": {},
   "source": [
    "# Generating synthetic data\n",
    "- This jupyter note book will run through set up and execution for generating synthetic data"
   ]
  },
  {
   "cell_type": "code",
   "execution_count": null,
   "metadata": {
    "vscode": {
     "languageId": "shellscript"
    }
   },
   "outputs": [],
   "source": [
    "# Setting up containers\n",
    "!cd ../umccr-dictionary && make down\n",
    "!cd ../umccr-dictionary && make pull\n",
    "!cd ../umccr-dictionary && make up\n",
    "!cd ../umccr-dictionary && make ps\n"
   ]
  },
  {
   "cell_type": "markdown",
   "metadata": {},
   "source": [
    "# Generating synthetic data using umccr-dictionary\n",
    "- This part of the script assumes that bundled json has been created using:\n",
    "\n",
    "```bash\n",
    "!cd ../umccr-dictionary && make compile program=schema_dev\n",
    "```\n",
    "\n",
    "- If this has not yet been created, make sure to create it first using the [schema_dev_framework.ipynb notebook](./schema_dev_framework.ipynb)\n"
   ]
  },
  {
   "cell_type": "code",
   "execution_count": null,
   "metadata": {
    "vscode": {
     "languageId": "shellscript"
    }
   },
   "outputs": [],
   "source": [
    "# Generating synthetic data using umccr-dictionary\n",
    "!cd ../umccr-dictionary && make simulate program=schema_dev project=tmp_project max_samples=110"
   ]
  },
  {
   "cell_type": "markdown",
   "metadata": {},
   "source": [
    "# Running plausible data generation\n",
    "- Make sure to specify gurl, which reads the SD and mean values from a google sheet and generates a synthetic data set\n",
    "- Refer to [plausible_values gsheet](https://docs.google.com/spreadsheets/d/1zjDBDvXgb0ydswFBwy47r2c8V1TFnpUj1jcG0xsY7ZI/edit#gid=1771305859)"
   ]
  },
  {
   "cell_type": "code",
   "execution_count": null,
   "metadata": {
    "vscode": {
     "languageId": "shellscript"
    }
   },
   "outputs": [],
   "source": [
    "# Running plausible data generation\n",
    "!python3 ../plausible_data_gen.py --path ../output/synthetic_data/schema_dev/tmp_project --gurl 'https://docs.google.com/spreadsheets/d/1zjDBDvXgb0ydswFBwy47r2c8V1TFnpUj1jcG0xsY7ZI/edit#gid=1771305859'"
   ]
  },
  {
   "cell_type": "code",
   "execution_count": 4,
   "metadata": {
    "vscode": {
     "languageId": "shellscript"
    }
   },
   "outputs": [],
   "source": [
    "# Copying synthetic data back to synthetic data output\n",
    "!mkdir -p ../output/synthetic_data\n",
    "!cp -r ../umccr-dictionary/data/schema_dev ../output/synthetic_data/"
   ]
  }
 ],
 "metadata": {
  "kernelspec": {
   "display_name": ".venv",
   "language": "python",
   "name": "python3"
  },
  "language_info": {
   "codemirror_mode": {
    "name": "ipython",
    "version": 3
   },
   "file_extension": ".py",
   "mimetype": "text/x-python",
   "name": "python",
   "nbconvert_exporter": "python",
   "pygments_lexer": "ipython3",
   "version": "3.9.5"
  }
 },
 "nbformat": 4,
 "nbformat_minor": 2
}
