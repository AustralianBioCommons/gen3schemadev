{
 "cells": [
  {
   "cell_type": "markdown",
   "metadata": {},
   "source": [
    "# "
   ]
  },
  {
   "cell_type": "markdown",
   "metadata": {},
   "source": [
    "# Generating synthetic data\n",
    "- This jupyter note book will run through set up and execution for generating synthetic data"
   ]
  },
  {
   "cell_type": "code",
   "execution_count": null,
   "metadata": {
    "vscode": {
     "languageId": "shellscript"
    }
   },
   "outputs": [],
   "source": [
    "# Setting up containers\n",
    "!cd ../umccr-dictionary && make down\n",
    "!cd ../umccr-dictionary && make pull\n",
    "!cd ../umccr-dictionary && make up\n",
    "!cd ../umccr-dictionary && make ps\n",
    "!cd ../umccr-dictionary && make restart"
   ]
  },
  {
   "cell_type": "markdown",
   "metadata": {},
   "source": [
    "# Generating synthetic data using umccr-dictionary\n",
    "- This part of the script assumes that bundled json has been created using:\n",
    "\n",
    "```bash\n",
    "!cd ../umccr-dictionary && make compile program=schema_dev\n",
    "```\n",
    "\n",
    "- If this has not yet been created, make sure to create it first using the [schema_dev_framework.ipynb notebook](./schema_dev_framework.ipynb)\n"
   ]
  },
  {
   "cell_type": "code",
   "execution_count": null,
   "metadata": {
    "vscode": {
     "languageId": "shellscript"
    }
   },
   "outputs": [],
   "source": [
    "# Generating synthetic data using umccr-dictionary\n",
    "!cd ../umccr-dictionary && make simulate program=schema_dev project=tmp_project max_samples=110"
   ]
  },
  {
   "cell_type": "code",
   "execution_count": 3,
   "metadata": {
    "vscode": {
     "languageId": "shellscript"
    }
   },
   "outputs": [],
   "source": [
    "# Copying synthetic data back to gen3schemadev\n",
    "!mkdir -p ../output/synthetic_data/raw_umccr\n",
    "!mkdir -p ../output/synthetic_data/raw_gen3schemadev\n",
    "!mkdir -p ../output/synthetic_data/transformed\n",
    "!cp -r ../umccr-dictionary/data/schema_dev/ ../output/synthetic_data/raw_umccr\n",
    "# cleaning temp data\n",
    "!test -d ../umccr-dictionary/data/schema_dev/ && rm -r ../umccr-dictionary/data/schema_dev/"
   ]
  },
  {
   "cell_type": "markdown",
   "metadata": {},
   "source": [
    "# Running plausible data generation\n",
    "- Make sure to specify gurl, which reads the SD and mean values from a google sheet and generates a synthetic data set\n",
    "- Refer to [plausible_values gsheet](https://docs.google.com/spreadsheets/d/1zjDBDvXgb0ydswFBwy47r2c8V1TFnpUj1jcG0xsY7ZI/edit#gid=1771305859)"
   ]
  },
  {
   "cell_type": "code",
   "execution_count": null,
   "metadata": {
    "vscode": {
     "languageId": "shellscript"
    }
   },
   "outputs": [],
   "source": [
    "# Running plausible data generation\n",
    "!(cd .. && bash scripts/add_plausible_values.sh -s tmp_project -i output/synthetic_data/raw_umccr -g 'https://docs.google.com/spreadsheets/d/1zjDBDvXgb0ydswFBwy47r2c8V1TFnpUj1jcG0xsY7ZI/edit#gid=1771305859' -o output/synthetic_data/raw_gen3schemadev)"
   ]
  },
  {
   "cell_type": "markdown",
   "metadata": {},
   "source": [
    "# Update metadata with dummy file names\n",
    "- Derived from these [dummy files](../file_type_templates/)\n",
    "- You can read more about how this step works here: [file_type_templates/README.md](../file_type_templates/README.md)"
   ]
  },
  {
   "cell_type": "code",
   "execution_count": null,
   "metadata": {},
   "outputs": [],
   "source": [
    "import gen3schemadev\n",
    "\n",
    "project_id_list = ['tmp_project']\n",
    "templates_path = '../file_type_templates'\n",
    "json_data_path = f'../output/synthetic_data/raw_gen3schemadev/'\n",
    "output_dir = f'../output/synthetic_data/raw_gen3schemadev_updated_fn/'\n",
    "\n",
    "synthdata = gen3schemadev.gen3synthdata.gen3SynthFiles(json_data_path, project_id_list, templates_path, output_dir)\n",
    "synthdata.copy_metadata_files()\n",
    "synthdata.update_fn_metadata()"
   ]
  },
  {
   "cell_type": "markdown",
   "metadata": {},
   "source": [
    "Synthetic data files have now been generated, and the metadata has been updated with dummy file names.\n",
    "- You can find the data in `../output/synthetic_data/raw_gen3schemadev_updated_fn/tmp_project`"
   ]
  }
 ],
 "metadata": {
  "kernelspec": {
   "display_name": ".venv",
   "language": "python",
   "name": "python3"
  },
  "language_info": {
   "codemirror_mode": {
    "name": "ipython",
    "version": 3
   },
   "file_extension": ".py",
   "mimetype": "text/x-python",
   "name": "python",
   "nbconvert_exporter": "python",
   "pygments_lexer": "ipython3",
   "version": "3.9.5"
  }
 },
 "nbformat": 4,
 "nbformat_minor": 2
}
