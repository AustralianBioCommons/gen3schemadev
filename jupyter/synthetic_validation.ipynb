{
 "cells": [
  {
   "cell_type": "markdown",
   "metadata": {},
   "source": [
    "# Synthetic Data Validation and Transformation"
   ]
  },
  {
   "cell_type": "code",
   "execution_count": 1,
   "metadata": {},
   "outputs": [],
   "source": [
    "import gen3schemadev"
   ]
  },
  {
   "cell_type": "code",
   "execution_count": 2,
   "metadata": {},
   "outputs": [],
   "source": [
    "# Defining projects\n",
    "project_list = ['tmp_project']\n",
    "# Define the data import order file\n",
    "data_import_order_path = '../output/synthetic_data/raw_umccr/tmp_project/DataImportOrder.txt'"
   ]
  },
  {
   "cell_type": "code",
   "execution_count": null,
   "metadata": {},
   "outputs": [],
   "source": [
    "# Reading data import order file and removing unnecessary nodes\n",
    "data_import_nodes = []\n",
    "with open(data_import_order_path, 'r') as f:\n",
    "    data_import_nodes = f.read().splitlines()\n",
    "exclude_nodes = ['acknowledgement', 'publication', 'program', 'project']\n",
    "data_import_nodes = [node for node in data_import_nodes if node not in exclude_nodes]\n",
    "data_import_nodes"
   ]
  },
  {
   "cell_type": "markdown",
   "metadata": {},
   "source": [
    "#### Copying metadata to transformed folder"
   ]
  },
  {
   "cell_type": "code",
   "execution_count": null,
   "metadata": {},
   "outputs": [],
   "source": [
    "gen3schemadev.copy_directory('../output/synthetic_data/raw_gen3schemadev_updated_fn/', '../output/synthetic_data/transformed/')"
   ]
  },
  {
   "cell_type": "markdown",
   "metadata": {},
   "source": [
    "## Adding in Enums and date time values\n",
    "This code block does the following:\n",
    "\n",
    "1. Reads the ETL mappings from the YAML file in `../config/etl_mappings.yaml`\n",
    "    - The etl mappings look like this:\n",
    "    ```yaml\n",
    "    enum_mappings:\n",
    "    - filename: medical_history.json\n",
    "        key: hypertension_measurement_type\n",
    "    time_mappings:\n",
    "    - filename: core_metadata_collection.json\n",
    "        key: date\n",
    "    ```\n",
    "    - The enum mappings say that the filename `medical_history.json` has a key `hypertension_measurement_type` that should be updated with the enum values from the `enums.csv` file.\n",
    "    - The time mappings say that the filename `core_metadata_collection.json` has a key `date` that should be updated with a date/time value.\n",
    "\n",
    "2. Iterates over each project in the project list\n",
    "    - For each project, it updates the enum and date/time values in the JSON files. \n",
    "\n",
    "*Note: Without doing this step, the synthetic data generator adds in null enum values and incorrect date/time values.*"
   ]
  },
  {
   "cell_type": "code",
   "execution_count": null,
   "metadata": {},
   "outputs": [],
   "source": [
    "import yaml\n",
    "\n",
    "# Define the path to the transformed synthetic data directory\n",
    "transformed_path = '../output/synthetic_data/transformed'\n",
    "\n",
    "# Define the paths to the enum and property definition CSV files\n",
    "enum_file_path = '../output/input_google_sheets/csv/enum_def.csv'\n",
    "prop_file_path = '../output/input_google_sheets/csv/prop_def.csv'\n",
    "\n",
    "# Initialize the SchemaEnums object to provide enum and property lookups\n",
    "enum_lookup = gen3schemadev.SchemaEnums(enum_file_path=enum_file_path, prop_file_path=prop_file_path)\n",
    "\n",
    "# Load ETL mappings from the YAML configuration file\n",
    "with open('../config/etl_mappings.yaml', 'r') as file:\n",
    "    etl_mappings = yaml.safe_load(file)\n",
    "\n",
    "# Extract enum and time key mappings from the loaded configuration\n",
    "enum_key_mapping = etl_mappings['enum_mappings']\n",
    "time_key_mapping = etl_mappings['time_mappings']\n",
    "\n",
    "# Iterate over each project in the project list\n",
    "for project in project_list:\n",
    "    \n",
    "    # --- Update enum values in JSON files ---\n",
    "    for i in enum_key_mapping:\n",
    "        json_filename = i['filename']  # Target JSON file name\n",
    "        key = i['key']                 # Key in the JSON file to update\n",
    "        # Retrieve allowed enum values for this key and file\n",
    "        enums = enum_lookup.pull_enums(key, json_filename)\n",
    "        # Update the JSON file with valid enum values for the specified key\n",
    "        gen3schemadev.update_json_key_values(\n",
    "            base_path=f\"{transformed_path}/{project}\", \n",
    "            json_filename=json_filename, \n",
    "            key=key,  \n",
    "            enums=enums,\n",
    "            write_inplace=True\n",
    "        )\n",
    "    \n",
    "    # --- Update date/time values in JSON files ---\n",
    "    for i in time_key_mapping:\n",
    "        json_filename = i['filename']  # Target JSON file name\n",
    "        key = i['key']                 # Key in the JSON file to update\n",
    "        # Update the JSON file with a generated date/time value for the specified key\n",
    "        gen3schemadev.update_json_key_values(\n",
    "            base_path=f\"{transformed_path}/{project}\", \n",
    "            json_filename=json_filename, \n",
    "            key=key,  \n",
    "            insert_date_time=True,\n",
    "            write_inplace=True\n",
    "        )"
   ]
  },
  {
   "cell_type": "markdown",
   "metadata": {},
   "source": [
    "#### Coping data import order"
   ]
  },
  {
   "cell_type": "code",
   "execution_count": null,
   "metadata": {},
   "outputs": [],
   "source": [
    "synth_dir = '../output/synthetic_data'\n",
    "gen3schemadev.copy_data_import_order(project_list, f\"{synth_dir}/raw_umccr\", f\"{synth_dir}/transformed\")"
   ]
  },
  {
   "cell_type": "markdown",
   "metadata": {},
   "source": [
    "## Running Validation on Synthetic Data\n",
    "- This is checking validation after transformation"
   ]
  },
  {
   "cell_type": "code",
   "execution_count": null,
   "metadata": {},
   "outputs": [],
   "source": [
    "import acdctools\n",
    "quick = acdctools.QuickValidateSynth(data_dir=\"../output/synthetic_data/transformed\",\n",
    "                                              project_name_list= project_list,\n",
    "                                              exclude_nodes=['acknowledgement', 'publication', 'program', 'project'],\n",
    "                                              resolved_schema_path=\"../output/schema/json/schema_dev_resolved.json\")\n",
    "quick.quick_validate()"
   ]
  },
  {
   "cell_type": "code",
   "execution_count": null,
   "metadata": {},
   "outputs": [],
   "source": [
    "# Example of pulling out specific errors\n",
    "key = ('tmp_project', 'demographic')\n",
    "quick.errors.get(key)"
   ]
  }
 ],
 "metadata": {
  "kernelspec": {
   "display_name": ".venv",
   "language": "python",
   "name": "python3"
  },
  "language_info": {
   "codemirror_mode": {
    "name": "ipython",
    "version": 3
   },
   "file_extension": ".py",
   "mimetype": "text/x-python",
   "name": "python",
   "nbconvert_exporter": "python",
   "pygments_lexer": "ipython3",
   "version": "3.9.5"
  }
 },
 "nbformat": 4,
 "nbformat_minor": 2
}
