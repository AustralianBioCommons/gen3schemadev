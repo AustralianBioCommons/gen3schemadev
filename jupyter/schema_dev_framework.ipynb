{
 "cells": [
  {
   "cell_type": "markdown",
   "metadata": {},
   "source": [
    "# "
   ]
  },
  {
   "cell_type": "markdown",
   "metadata": {},
   "source": [
    "# Gen3 Schema Development Framework\n",
    "- This notebook provides a framework for developing a gen3 data schema using gdocs as a template."
   ]
  },
  {
   "cell_type": "markdown",
   "metadata": {},
   "source": [
    "### Pulling data schema from google sheets\n",
    "- pulls design from the following google sheet template [link](https://docs.google.com/spreadsheets/d/1zjDBDvXgb0ydswFBwy47r2c8V1TFnpUj1jcG0xsY7ZI/edit?usp=sharing)\n",
    "- This step involves pulling the schema design from a Google Sheet template. The template can be accessed [here](https://docs.google.com/spreadsheets/d/1zjDBDvXgb0ydswFBwy47r2c8V1TFnpUj1jcG0xsY7ZI/edit?usp=sharing). Feel free to duplicate this spreadsheet and input your own google sheet id along with the tab ids for objects, links, properties, and enums."
   ]
  },
  {
   "cell_type": "code",
   "execution_count": null,
   "metadata": {},
   "outputs": [],
   "source": [
    "import os\n",
    "if os.path.basename(os.getcwd()) == 'jupyter':\n",
    "    os.chdir('..')\n",
    "os.getcwd()"
   ]
  },
  {
   "cell_type": "code",
   "execution_count": null,
   "metadata": {
    "vscode": {
     "languageId": "shellscript"
    }
   },
   "outputs": [],
   "source": [
    "!cd umccr-dictionary && make down\n",
    "!cd umccr-dictionary && make pull\n",
    "!cd umccr-dictionary && make up\n",
    "!cd umccr-dictionary && make ps\n",
    "!cd umccr-dictionary && make restart"
   ]
  },
  {
   "cell_type": "code",
   "execution_count": 3,
   "metadata": {
    "vscode": {
     "languageId": "shellscript"
    }
   },
   "outputs": [],
   "source": [
    "# Purging old google sheets\n",
    "!test -d output/input_google_sheets && rm -r output/input_google_sheets"
   ]
  },
  {
   "cell_type": "code",
   "execution_count": null,
   "metadata": {
    "vscode": {
     "languageId": "shellscript"
    }
   },
   "outputs": [],
   "source": [
    "# Pulling data schema from google sheets\n",
    "# Note this is loads a gdoc template \n",
    "!rm -R schema_out\n",
    "# pull google sheets and save to ./schema_out\n",
    "!python3 sheet2yaml-CLI.py --google-id '1zjDBDvXgb0ydswFBwy47r2c8V1TFnpUj1jcG0xsY7ZI' --objects-gid 0 --links-gid 270346573 --properties-gid 613332252 --enums-gid 1807456496  --download --output-dir 'output/input_google_sheets'"
   ]
  },
  {
   "cell_type": "code",
   "execution_count": null,
   "metadata": {
    "vscode": {
     "languageId": "shellscript"
    }
   },
   "outputs": [],
   "source": [
    "# Moving schema_out to umccr-dictionary\n",
    "!mkdir -p umccr-dictionary/dictionary/schema_dev/gdcdictionary/schemas\n",
    "!cp schema_out/* umccr-dictionary/dictionary/schema_dev/gdcdictionary/schemas/\n",
    "!ls -lsha umccr-dictionary/dictionary/schema_dev/gdcdictionary/schemas/"
   ]
  },
  {
   "cell_type": "code",
   "execution_count": null,
   "metadata": {
    "vscode": {
     "languageId": "shellscript"
    }
   },
   "outputs": [],
   "source": [
    "# compiling and bundling into json\n",
    "!cd umccr-dictionary && make compile program=schema_dev\n"
   ]
  },
  {
   "cell_type": "code",
   "execution_count": null,
   "metadata": {
    "vscode": {
     "languageId": "shellscript"
    }
   },
   "outputs": [],
   "source": [
    "# Running Validation\n",
    "!cd umccr-dictionary && make validate program=schema_dev"
   ]
  },
  {
   "cell_type": "code",
   "execution_count": 8,
   "metadata": {
    "vscode": {
     "languageId": "shellscript"
    }
   },
   "outputs": [],
   "source": [
    "# Visualising data dictionary\n",
    "!open http://localhost:8080/#schema/schema_dev.json"
   ]
  },
  {
   "cell_type": "code",
   "execution_count": 9,
   "metadata": {
    "vscode": {
     "languageId": "shellscript"
    }
   },
   "outputs": [],
   "source": [
    "# Purging old schema\n",
    "!test -d output/schema && rm -r output/schema\n",
    "!test -d output/schema && rm -r output/schema"
   ]
  },
  {
   "cell_type": "code",
   "execution_count": 10,
   "metadata": {
    "vscode": {
     "languageId": "shellscript"
    }
   },
   "outputs": [],
   "source": [
    "# Copying outputs to root\n",
    "!mkdir -p output/schema/yaml\n",
    "!mkdir -p output/schema/json\n",
    "!cp schema_out/* output/schema/yaml/\n",
    "!cp umccr-dictionary/schema/schema_dev.json output/schema/json/"
   ]
  },
  {
   "cell_type": "code",
   "execution_count": null,
   "metadata": {},
   "outputs": [],
   "source": [
    "# Resolving Schema\n",
    "import json\n",
    "from gen3schemadev.gen3schematools import ResolveSchema\n",
    "\n",
    "resolver = ResolveSchema(\"output/schema/json/schema_dev.json\")\n",
    "\n",
    "with open(\"output/schema/json/schema_dev_resolved.json\", \"w\") as f:\n",
    "    json.dump(resolver.schema_resolved, f, indent=4)"
   ]
  }
 ],
 "metadata": {
  "kernelspec": {
   "display_name": ".venv",
   "language": "python",
   "name": "python3"
  },
  "language_info": {
   "codemirror_mode": {
    "name": "ipython",
    "version": 3
   },
   "file_extension": ".py",
   "mimetype": "text/x-python",
   "name": "python",
   "nbconvert_exporter": "python",
   "pygments_lexer": "ipython3",
   "version": "3.9.5"
  }
 },
 "nbformat": 4,
 "nbformat_minor": 2
}
