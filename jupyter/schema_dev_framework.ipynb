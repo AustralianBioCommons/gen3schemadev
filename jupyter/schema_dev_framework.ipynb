{
 "cells": [
  {
   "cell_type": "markdown",
   "metadata": {},
   "source": [
    "# "
   ]
  },
  {
   "cell_type": "markdown",
   "metadata": {},
   "source": [
    "# Gen3 Schema Development Framework\n",
    "- This notebook provides a framework for developing a gen3 data schema using gdocs as a template."
   ]
  },
  {
   "cell_type": "code",
   "execution_count": null,
   "metadata": {},
   "outputs": [],
   "source": [
    "# shifting working directory to one level above jupyter - Set as needed!\n",
    "%cd ../"
   ]
  },
  {
   "cell_type": "code",
   "execution_count": null,
   "metadata": {
    "vscode": {
     "languageId": "shellscript"
    }
   },
   "outputs": [],
   "source": [
    "# Run if gen3schemadev is not already installed and you are running this notebook standalone\n",
    "!git clone https://github.com/AustralianBioCommons/gen3schemadev.git\n",
    "!cd ./gen3schemadev"
   ]
  },
  {
   "cell_type": "code",
   "execution_count": null,
   "metadata": {
    "vscode": {
     "languageId": "shellscript"
    }
   },
   "outputs": [],
   "source": [
    "# setup virtual environment\n",
    "!python3 -m venv .venv\n",
    "!source .venv/bin/activate\n",
    "!pip3 install -r requirements.txt"
   ]
  },
  {
   "cell_type": "markdown",
   "metadata": {},
   "source": [
    "### Pulling data schema from google sheets\n",
    "- pulls design from the following google sheet template [link](https://docs.google.com/spreadsheets/d/1zjDBDvXgb0ydswFBwy47r2c8V1TFnpUj1jcG0xsY7ZI/edit?usp=sharing)"
   ]
  },
  {
   "cell_type": "code",
   "execution_count": null,
   "metadata": {
    "vscode": {
     "languageId": "shellscript"
    }
   },
   "outputs": [],
   "source": [
    "# Pulling data schema from google sheets\n",
    "# Note this is loads a gdoc template \n",
    "!rm -R schema_out\n",
    "!python3 sheet2yaml-CLI.py --google-id '1zjDBDvXgb0ydswFBwy47r2c8V1TFnpUj1jcG0xsY7ZI' --objects-gid 0 --links-gid 270346573 --properties-gid 613332252 --enums-gid 1807456496"
   ]
  },
  {
   "cell_type": "code",
   "execution_count": null,
   "metadata": {
    "vscode": {
     "languageId": "shellscript"
    }
   },
   "outputs": [],
   "source": [
    "# Run if  umccr-dict does not exist\n",
    "!cd \"$(pwd)/../\" && git clone https://github.com/AustralianBioCommons/umccr-dictionary.git\n"
   ]
  },
  {
   "cell_type": "code",
   "execution_count": null,
   "metadata": {
    "vscode": {
     "languageId": "shellscript"
    }
   },
   "outputs": [],
   "source": [
    "# Moving schema_out to umccr-dictionary\n",
    "!mkdir -p ../umccr-dictionary/dictionary/schema_dev/gdcdictionary/schemas\n",
    "!cp schema_out/* ../umccr-dictionary/dictionary/schema_dev/gdcdictionary/schemas/\n",
    "!ls -lsha ../umccr-dictionary/dictionary/schema_dev/gdcdictionary/schemas/"
   ]
  },
  {
   "cell_type": "code",
   "execution_count": null,
   "metadata": {
    "vscode": {
     "languageId": "shellscript"
    }
   },
   "outputs": [],
   "source": [
    "# loading containers\n",
    "!cd ../umccr-dictionary && make down\n",
    "!cd ../umccr-dictionary && make pull\n",
    "!cd ../umccr-dictionary && make up\n",
    "!cd ../umccr-dictionary && make ps\n"
   ]
  },
  {
   "cell_type": "code",
   "execution_count": null,
   "metadata": {
    "vscode": {
     "languageId": "shellscript"
    }
   },
   "outputs": [],
   "source": [
    "# compiling and bundling into json\n",
    "!cd ../umccr-dictionary && make compile program=schema_dev\n"
   ]
  },
  {
   "cell_type": "code",
   "execution_count": null,
   "metadata": {
    "vscode": {
     "languageId": "shellscript"
    }
   },
   "outputs": [],
   "source": [
    "# Running Validation\n",
    "!cd ../umccr-dictionary && make validate program=schema_dev"
   ]
  },
  {
   "cell_type": "code",
   "execution_count": null,
   "metadata": {
    "vscode": {
     "languageId": "shellscript"
    }
   },
   "outputs": [],
   "source": [
    "# Visualising data dictionary\n",
    "!open http://localhost:8080/#schema/schema_dev.json"
   ]
  },
  {
   "cell_type": "markdown",
   "metadata": {},
   "source": []
  }
 ],
 "metadata": {
  "kernelspec": {
   "display_name": ".venv",
   "language": "python",
   "name": "python3"
  },
  "language_info": {
   "codemirror_mode": {
    "name": "ipython",
    "version": 3
   },
   "file_extension": ".py",
   "mimetype": "text/x-python",
   "name": "python",
   "nbconvert_exporter": "python",
   "pygments_lexer": "ipython3",
   "version": "3.9.6"
  }
 },
 "nbformat": 4,
 "nbformat_minor": 2
}
