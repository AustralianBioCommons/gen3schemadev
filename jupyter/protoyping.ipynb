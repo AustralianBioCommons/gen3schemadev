{
 "cells": [
  {
   "cell_type": "code",
   "execution_count": null,
   "id": "311cb61f",
   "metadata": {},
   "outputs": [],
   "source": [
    "import gen3_validator\n",
    "# loading gen3 bundled jsonschema into dictionary class\n",
    "dd = gen3_validator.dict.DataDictionary('../examples/schema/json/schema_dev.json')\n",
    "dd.parse_schema()"
   ]
  },
  {
   "cell_type": "code",
   "execution_count": 5,
   "id": "0a5c5829",
   "metadata": {},
   "outputs": [
    {
     "data": {
      "text/plain": [
       "['demographic.yaml',\n",
       " 'project.yaml',\n",
       " 'acknowledgement.yaml',\n",
       " 'medical_history.yaml',\n",
       " '_definitions.yaml',\n",
       " '_settings.yaml',\n",
       " 'program.yaml',\n",
       " 'sample.yaml',\n",
       " '_terms.yaml',\n",
       " 'lipidomics_file.yaml',\n",
       " 'publication.yaml',\n",
       " 'subject.yaml',\n",
       " 'core_metadata_collection.yaml']"
      ]
     },
     "execution_count": 5,
     "metadata": {},
     "output_type": "execute_result"
    }
   ],
   "source": [
    "# getting list of entities\n",
    "dd.get_nodes()"
   ]
  },
  {
   "cell_type": "code",
   "execution_count": 7,
   "id": "353f0be3",
   "metadata": {},
   "outputs": [
    {
     "data": {
      "text/plain": [
       "{'$schema': 'http://json-schema.org/draft-04/schema#',\n",
       " 'id': 'lipidomics_file',\n",
       " 'title': 'Lipidomics File',\n",
       " 'type': 'object',\n",
       " 'namespace': 'https://data.acdc.ozheart.org',\n",
       " 'category': 'data_file',\n",
       " 'program': '*',\n",
       " 'project': '*',\n",
       " 'description': 'Data file containing lipidomics data',\n",
       " 'additionalProperties': False,\n",
       " 'submittable': True,\n",
       " 'validators': None,\n",
       " 'systemProperties': ['id',\n",
       "  'project_id',\n",
       "  'state',\n",
       "  'created_datetime',\n",
       "  'updated_datetime'],\n",
       " 'links': [{'exclusive': False,\n",
       "   'required': True,\n",
       "   'subgroup': [{'name': 'samples',\n",
       "     'backref': 'lipidomics_files',\n",
       "     'label': 'data_from',\n",
       "     'target_type': 'sample',\n",
       "     'multiplicity': 'many_to_many',\n",
       "     'required': False},\n",
       "    {'name': 'core_metadata_collection',\n",
       "     'backref': 'lipidomics_files',\n",
       "     'label': 'describes',\n",
       "     'target_type': 'core_metadata_collection',\n",
       "     'multiplicity': 'one_to_one',\n",
       "     'required': True}]}],\n",
       " 'required': ['type',\n",
       "  'submitter_id',\n",
       "  'core_metadata_collection',\n",
       "  'data_type',\n",
       "  'data_format',\n",
       "  'data_category'],\n",
       " 'uniqueKeys': [['id'], ['project_id', 'submitter_id']],\n",
       " 'properties': {'$ref': '_definitions.yaml#/data_file_properties',\n",
       "  'samples': {'$ref': '_definitions.yaml#/to_many'},\n",
       "  'core_metadata_collection': {'$ref': '_definitions.yaml#/to_one'},\n",
       "  'data_type': {'description': 'The type of data in this data file',\n",
       "   'enum': ['TIC/XIC', 'MS', 'MS/MS', 'Image']},\n",
       "  'data_format': {'description': 'The format of the data in this data file',\n",
       "   'enum': ['csv', 'tsv', 'xls', 'xlsx']},\n",
       "  'data_category': {'description': 'Broad categorization of the contents of the data file.',\n",
       "   'enum': ['mass spec raw', 'mass spec analysed', 'summarised results']},\n",
       "  'cv': {'description': 'Coefficient of variation (%)', 'type': 'number'}}}"
      ]
     },
     "execution_count": 7,
     "metadata": {},
     "output_type": "execute_result"
    }
   ],
   "source": [
    "# Returning the jsonschema for a given entity\n",
    "dd.return_schema('lipidomics_file.yaml')"
   ]
  }
 ],
 "metadata": {
  "kernelspec": {
   "display_name": "Python 3",
   "language": "python",
   "name": "python3"
  },
  "language_info": {
   "codemirror_mode": {
    "name": "ipython",
    "version": 3
   },
   "file_extension": ".py",
   "mimetype": "text/x-python",
   "name": "python",
   "nbconvert_exporter": "python",
   "pygments_lexer": "ipython3",
   "version": "3.9.5"
  }
 },
 "nbformat": 4,
 "nbformat_minor": 5
}
