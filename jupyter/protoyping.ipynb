{
 "cells": [
  {
   "cell_type": "code",
   "execution_count": null,
   "id": "311cb61f",
   "metadata": {},
   "outputs": [],
   "source": [
    "import gen3_validator\n",
    "# loading gen3 bundled jsonschema into dictionary class\n",
    "dd = gen3_validator.dict.DataDictionary('../examples/schema/json/schema_dev.json')\n",
    "dd.parse_schema()"
   ]
  },
  {
   "cell_type": "code",
   "execution_count": 5,
   "id": "0a5c5829",
   "metadata": {},
   "outputs": [
    {
     "data": {
      "text/plain": [
       "['demographic.yaml',\n",
       " 'project.yaml',\n",
       " 'acknowledgement.yaml',\n",
       " 'medical_history.yaml',\n",
       " '_definitions.yaml',\n",
       " '_settings.yaml',\n",
       " 'program.yaml',\n",
       " 'sample.yaml',\n",
       " '_terms.yaml',\n",
       " 'lipidomics_file.yaml',\n",
       " 'publication.yaml',\n",
       " 'subject.yaml',\n",
       " 'core_metadata_collection.yaml']"
      ]
     },
     "execution_count": 5,
     "metadata": {},
     "output_type": "execute_result"
    }
   ],
   "source": [
    "# getting list of entities\n",
    "dd.get_nodes()"
   ]
  },
  {
   "cell_type": "code",
   "execution_count": 6,
   "id": "353f0be3",
   "metadata": {},
   "outputs": [
    {
     "data": {
      "text/plain": [
       "{'$schema': 'http://json-schema.org/draft-04/schema#',\n",
       " 'id': 'demographic',\n",
       " 'title': 'Demographic',\n",
       " 'type': 'object',\n",
       " 'namespace': 'https://data.acdc.ozheart.org',\n",
       " 'category': 'clinical',\n",
       " 'program': '*',\n",
       " 'project': '*',\n",
       " 'description': 'Data for the characterization of the patient by means of segementing the population (e.g. characterization by age, sex, or race).',\n",
       " 'additionalProperties': False,\n",
       " 'submittable': True,\n",
       " 'validators': None,\n",
       " 'systemProperties': ['id',\n",
       "  'project_id',\n",
       "  'state',\n",
       "  'created_datetime',\n",
       "  'updated_datetime'],\n",
       " 'links': [{'name': 'subjects',\n",
       "   'backref': 'demographics',\n",
       "   'label': 'describes',\n",
       "   'target_type': 'subject',\n",
       "   'multiplicity': 'one_to_one',\n",
       "   'required': True}],\n",
       " 'required': ['type', 'submitter_id', 'subjects'],\n",
       " 'uniqueKeys': [['id'], ['project_id', 'submitter_id']],\n",
       " 'properties': {'$ref': '_definitions.yaml#/ubiquitous_properties',\n",
       "  'subjects': {'$ref': '_definitions.yaml#/to_one'},\n",
       "  'year_birth': {'description': 'Year of birth at baseline (YYYY)',\n",
       "   'type': 'integer'},\n",
       "  'month_birth': {'description': 'Month of birth at baseline (MM)',\n",
       "   'type': 'integer'}}}"
      ]
     },
     "execution_count": 6,
     "metadata": {},
     "output_type": "execute_result"
    }
   ],
   "source": [
    "# Returning the jsonschema for a given entity\n",
    "dd.return_schema('demographic.yaml')"
   ]
  }
 ],
 "metadata": {
  "kernelspec": {
   "display_name": "Python 3",
   "language": "python",
   "name": "python3"
  },
  "language_info": {
   "codemirror_mode": {
    "name": "ipython",
    "version": 3
   },
   "file_extension": ".py",
   "mimetype": "text/x-python",
   "name": "python",
   "nbconvert_exporter": "python",
   "pygments_lexer": "ipython3",
   "version": "3.9.5"
  }
 },
 "nbformat": 4,
 "nbformat_minor": 5
}
