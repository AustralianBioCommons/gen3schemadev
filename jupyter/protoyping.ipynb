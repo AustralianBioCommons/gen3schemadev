{
 "cells": [
  {
   "cell_type": "code",
   "execution_count": 1,
   "id": "26ac381a",
   "metadata": {},
   "outputs": [],
   "source": [
    "import gen3schemadev as g"
   ]
  },
  {
   "cell_type": "code",
   "execution_count": 2,
   "id": "7bda6e32",
   "metadata": {},
   "outputs": [
    {
     "ename": "ValueError",
     "evalue": "Schema 'lipidomics_file' with category 'data_file' must include properties 'data_type', 'data_format', and 'data_category'. Please add these properties to the 'properties' section.",
     "output_type": "error",
     "traceback": [
      "\u001b[31m---------------------------------------------------------------------------\u001b[39m",
      "\u001b[31mValueError\u001b[39m                                Traceback (most recent call last)",
      "\u001b[36mCell\u001b[39m\u001b[36m \u001b[39m\u001b[32mIn[2]\u001b[39m\u001b[32m, line 3\u001b[39m\n\u001b[32m      1\u001b[39m lipid_schema = g.utils.load_yaml(\u001b[33m\"\u001b[39m\u001b[33m../output/lipidomics_file.yaml\u001b[39m\u001b[33m\"\u001b[39m)\n\u001b[32m      2\u001b[39m rule_val = g.validators.rule_validator.RuleValidator(lipid_schema)\n\u001b[32m----> \u001b[39m\u001b[32m3\u001b[39m \u001b[43mrule_val\u001b[49m\u001b[43m.\u001b[49m\u001b[43mdata_file_props_need_data_props\u001b[49m\u001b[43m(\u001b[49m\u001b[43m)\u001b[49m\n",
      "\u001b[36mFile \u001b[39m\u001b[32m~/projects/gen3schemadev/src/gen3schemadev/validators/rule_validator.py:208\u001b[39m, in \u001b[36mRuleValidator.data_file_props_need_data_props\u001b[39m\u001b[34m(self)\u001b[39m\n\u001b[32m    206\u001b[39m \u001b[38;5;28;01mif\u001b[39;00m \u001b[38;5;129;01mnot\u001b[39;00m need_props.issubset(prop_keys):\n\u001b[32m    207\u001b[39m     schema_id = \u001b[38;5;28mself\u001b[39m.schema.get(\u001b[33m\"\u001b[39m\u001b[33mid\u001b[39m\u001b[33m\"\u001b[39m, \u001b[33m\"\u001b[39m\u001b[33m<unknown id>\u001b[39m\u001b[33m\"\u001b[39m)\n\u001b[32m--> \u001b[39m\u001b[32m208\u001b[39m     \u001b[38;5;28;01mraise\u001b[39;00m \u001b[38;5;167;01mValueError\u001b[39;00m(\n\u001b[32m    209\u001b[39m         \u001b[33mf\u001b[39m\u001b[33m\"\u001b[39m\u001b[33mSchema \u001b[39m\u001b[33m'\u001b[39m\u001b[38;5;132;01m{\u001b[39;00mschema_id\u001b[38;5;132;01m}\u001b[39;00m\u001b[33m'\u001b[39m\u001b[33m with category \u001b[39m\u001b[33m'\u001b[39m\u001b[33mdata_file\u001b[39m\u001b[33m'\u001b[39m\u001b[33m must include properties \u001b[39m\u001b[33m\"\u001b[39m\n\u001b[32m    210\u001b[39m         \u001b[33mf\u001b[39m\u001b[33m\"\u001b[39m\u001b[33m'\u001b[39m\u001b[33mdata_type\u001b[39m\u001b[33m'\u001b[39m\u001b[33m, \u001b[39m\u001b[33m'\u001b[39m\u001b[33mdata_format\u001b[39m\u001b[33m'\u001b[39m\u001b[33m, and \u001b[39m\u001b[33m'\u001b[39m\u001b[33mdata_category\u001b[39m\u001b[33m'\u001b[39m\u001b[33m. Please add these properties \u001b[39m\u001b[33m\"\u001b[39m\n\u001b[32m    211\u001b[39m         \u001b[33mf\u001b[39m\u001b[33m\"\u001b[39m\u001b[33mto the \u001b[39m\u001b[33m'\u001b[39m\u001b[33mproperties\u001b[39m\u001b[33m'\u001b[39m\u001b[33m section.\u001b[39m\u001b[33m\"\u001b[39m\n\u001b[32m    212\u001b[39m     )\n\u001b[32m    213\u001b[39m \u001b[38;5;28;01mreturn\u001b[39;00m \u001b[38;5;28;01mTrue\u001b[39;00m\n",
      "\u001b[31mValueError\u001b[39m: Schema 'lipidomics_file' with category 'data_file' must include properties 'data_type', 'data_format', and 'data_category'. Please add these properties to the 'properties' section."
     ]
    }
   ],
   "source": [
    "lipid_schema = g.utils.load_yaml(\"../output/lipidomics_file.yaml\")\n",
    "rule_val = g.validators.rule_validator.RuleValidator(lipid_schema)\n",
    "rule_val.data_file_props_need_data_props()"
   ]
  },
  {
   "cell_type": "code",
   "execution_count": null,
   "id": "3bb68aac",
   "metadata": {},
   "outputs": [],
   "source": [
    "sdfsa"
   ]
  },
  {
   "cell_type": "code",
   "execution_count": null,
   "id": "401add76",
   "metadata": {},
   "outputs": [],
   "source": [
    "import gen3schemadev as g\n",
    "# rs = g.utils.resolve_schema(schema_path=\"../tests/gen3_schema/testing/schema_dev_pass.json\")\n",
    "rs = g.utils.resolve_schema(schema_path=\"../tests/gen3_schema/examples/json/schema_dev.json\")"
   ]
  },
  {
   "cell_type": "code",
   "execution_count": null,
   "id": "71f82c8a",
   "metadata": {},
   "outputs": [],
   "source": [
    "rs"
   ]
  },
  {
   "cell_type": "code",
   "execution_count": null,
   "id": "1d8ac925",
   "metadata": {},
   "outputs": [],
   "source": [
    "g.utils.write_json(rs, \"../tests/gen3_schema/examples/json/schema_dev_resolved.json\")"
   ]
  },
  {
   "cell_type": "code",
   "execution_count": null,
   "id": "ac952b1d",
   "metadata": {},
   "outputs": [],
   "source": [
    "type(rs)"
   ]
  },
  {
   "cell_type": "code",
   "execution_count": null,
   "id": "56ed438e",
   "metadata": {},
   "outputs": [],
   "source": [
    "g.utils.bundled_schema_to_list_dict(rs)"
   ]
  },
  {
   "cell_type": "code",
   "execution_count": null,
   "id": "a3bce4e3",
   "metadata": {},
   "outputs": [],
   "source": []
  }
 ],
 "metadata": {
  "kernelspec": {
   "display_name": ".venv",
   "language": "python",
   "name": "python3"
  },
  "language_info": {
   "codemirror_mode": {
    "name": "ipython",
    "version": 3
   },
   "file_extension": ".py",
   "mimetype": "text/x-python",
   "name": "python",
   "nbconvert_exporter": "python",
   "pygments_lexer": "ipython3",
   "version": "3.12.10"
  }
 },
 "nbformat": 4,
 "nbformat_minor": 5
}
