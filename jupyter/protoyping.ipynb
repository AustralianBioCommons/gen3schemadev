{
 "cells": [
  {
   "cell_type": "code",
   "execution_count": null,
   "id": "26ac381a",
   "metadata": {},
   "outputs": [],
   "source": [
    "import gen3schemadev as g"
   ]
  },
  {
   "cell_type": "code",
   "execution_count": null,
   "id": "7bda6e32",
   "metadata": {},
   "outputs": [],
   "source": [
    "lipid_schema = g.utils.load_yaml(\"../tests/gen3_schema/testing/yaml_pass/demographic.yaml\")\n",
    "rule_val = g.validators.rule_validator.RuleValidator(lipid_schema)\n",
    "rule_val.validate()"
   ]
  },
  {
   "cell_type": "code",
   "execution_count": null,
   "id": "3bb68aac",
   "metadata": {},
   "outputs": [],
   "source": [
    "sdfsa"
   ]
  },
  {
   "cell_type": "code",
   "execution_count": null,
   "id": "401add76",
   "metadata": {},
   "outputs": [],
   "source": [
    "import gen3schemadev as g\n",
    "# rs = g.utils.resolve_schema(schema_path=\"../tests/gen3_schema/testing/schema_dev_pass.json\")\n",
    "rs = g.utils.resolve_schema(schema_path=\"../tests/gen3_schema/examples/json/schema_dev.json\")"
   ]
  },
  {
   "cell_type": "code",
   "execution_count": null,
   "id": "71f82c8a",
   "metadata": {},
   "outputs": [],
   "source": [
    "rs"
   ]
  },
  {
   "cell_type": "code",
   "execution_count": null,
   "id": "1d8ac925",
   "metadata": {},
   "outputs": [],
   "source": [
    "g.utils.write_json(rs, \"../tests/gen3_schema/examples/json/schema_dev_resolved.json\")"
   ]
  },
  {
   "cell_type": "code",
   "execution_count": null,
   "id": "ac952b1d",
   "metadata": {},
   "outputs": [],
   "source": [
    "type(rs)"
   ]
  },
  {
   "cell_type": "code",
   "execution_count": null,
   "id": "56ed438e",
   "metadata": {},
   "outputs": [],
   "source": [
    "g.utils.bundled_schema_to_list_dict(rs)"
   ]
  },
  {
   "cell_type": "code",
   "execution_count": null,
   "id": "a3bce4e3",
   "metadata": {},
   "outputs": [],
   "source": []
  }
 ],
 "metadata": {
  "kernelspec": {
   "display_name": ".venv",
   "language": "python",
   "name": "python3"
  },
  "language_info": {
   "codemirror_mode": {
    "name": "ipython",
    "version": 3
   },
   "file_extension": ".py",
   "mimetype": "text/x-python",
   "name": "python",
   "nbconvert_exporter": "python",
   "pygments_lexer": "ipython3",
   "version": "3.12.10"
  }
 },
 "nbformat": 4,
 "nbformat_minor": 5
}
