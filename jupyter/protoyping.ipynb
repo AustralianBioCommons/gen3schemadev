{
 "cells": [
  {
   "cell_type": "code",
   "execution_count": null,
   "id": "311cb61f",
   "metadata": {},
   "outputs": [],
   "source": [
    "import gen3_validator\n",
    "# loading gen3 bundled jsonschema into dictionary class\n",
    "dd = gen3_validator.dict.DataDictionary('../examples/schema/json/schema_dev.json')\n",
    "dd.parse_schema()"
   ]
  },
  {
   "cell_type": "code",
   "execution_count": null,
   "id": "0a5c5829",
   "metadata": {},
   "outputs": [],
   "source": [
    "# getting list of entities\n",
    "dd.get_nodes()"
   ]
  },
  {
   "cell_type": "code",
   "execution_count": null,
   "id": "353f0be3",
   "metadata": {},
   "outputs": [],
   "source": [
    "# Returning the jsonschema for a given entity\n",
    "dd.return_schema('lipidomics_file.yaml')"
   ]
  },
  {
   "cell_type": "code",
   "execution_count": null,
   "id": "72cf0ec9",
   "metadata": {},
   "outputs": [],
   "source": [
    "!pip install dictionaryutils"
   ]
  },
  {
   "cell_type": "code",
   "execution_count": null,
   "id": "ed235b65",
   "metadata": {},
   "outputs": [],
   "source": [
    "\n",
    "import dictionaryutils\n",
    "import json\n",
    "import yaml\n",
    "dd = dictionaryutils.DataDictionary('/Users/harrijh/projects/gen3schemadev/examples/schema/yaml')\n",
    "dd.load_data(directory='/Users/harrijh/projects/gen3schemadev/examples/schema/yaml')\n",
    "dd_resolved = dd.schema\n",
    "\n",
    "for k, v in dd_resolved.items():\n",
    "    with open(f'/Users/harrijh/projects/gen3schemadev/examples/schema/yaml/resolved/{k}.yaml', 'w') as f:\n",
    "        yaml.safe_dump(v, f)\n",
    "\n",
    "\n",
    "with open(f'/Users/harrijh/projects/gen3schemadev/examples/schema/json/gen3_bundled_schema_resolved.json', 'w') as f:\n",
    "    json.dump(dd_resolved, f)"
   ]
  },
  {
   "cell_type": "code",
   "execution_count": null,
   "id": "d68684fa",
   "metadata": {},
   "outputs": [],
   "source": [
    "dd = dictionaryutils.load_schemas_from_file('/Users/harrijh/projects/gen3schemadev/examples/schema/json/schema_dev.json')\n",
    "dd"
   ]
  },
  {
   "cell_type": "markdown",
   "id": "f882f040",
   "metadata": {},
   "source": [
    "# To validate a gen3schemadev input yaml with the input schema\n"
   ]
  },
  {
   "cell_type": "code",
   "execution_count": null,
   "id": "930678da",
   "metadata": {},
   "outputs": [],
   "source": [
    "# !pip install check-jsonschema"
   ]
  },
  {
   "cell_type": "code",
   "execution_count": null,
   "id": "49b369d2",
   "metadata": {
    "vscode": {
     "languageId": "shellscript"
    }
   },
   "outputs": [],
   "source": [
    "!check-jsonschema --schemafile ../src/gen3schemadev/schema/input_schema.yml ../src/gen3schemadev/schema/input_example.yml --verbose"
   ]
  },
  {
   "cell_type": "markdown",
   "id": "b4b8c26f",
   "metadata": {},
   "source": [
    "# To validate a single gen3 schema yaml with the metaschema\n",
    "- note, the schema file needs to be resolved"
   ]
  },
  {
   "cell_type": "code",
   "execution_count": null,
   "id": "d1fa2150",
   "metadata": {
    "vscode": {
     "languageId": "shellscript"
    }
   },
   "outputs": [],
   "source": [
    "!check-jsonschema --schemafile ../src/gen3schemadev/schema/gen3_metaschema.yml ../examples/schema/yaml/resolved/lipidomics_file.yaml --verbose"
   ]
  },
  {
   "cell_type": "markdown",
   "id": "a76d32b8",
   "metadata": {},
   "source": [
    "if you give a non-resolved schema, it will not validate"
   ]
  },
  {
   "cell_type": "code",
   "execution_count": null,
   "id": "20608414",
   "metadata": {
    "vscode": {
     "languageId": "shellscript"
    }
   },
   "outputs": [],
   "source": [
    "!check-jsonschema --schemafile ../src/gen3schemadev/schema/gen3_metaschema.yml ../examples/schema/yaml/lipidomics_file.yaml --verbose"
   ]
  },
  {
   "cell_type": "markdown",
   "id": "ee115a9e",
   "metadata": {},
   "source": [
    "# Compiling gen3schemadev input yaml to gen3 yamls\n",
    "## Steps:\n",
    "1. Validate input yaml against the input schema\n",
    "2. Load the input yaml into python dictionary\n",
    "3. The compiler should start with an empty data structure, with default values for a gen3 schema. This yaml is defined in the `src/gen3schemadev/schema/gen3_schema_template.yml`\n",
    "4. "
   ]
  },
  {
   "cell_type": "code",
   "execution_count": 2,
   "id": "8fe1dda5",
   "metadata": {},
   "outputs": [
    {
     "name": "stderr",
     "output_type": "stream",
     "text": [
      "2025-09-30 13:23:47,210 [INFO] Successfully loaded YAML file: ../src/gen3schemadev/schema/gen3_metaschema.yml\n",
      "2025-09-30 13:23:47,219 [INFO] Successfully loaded YAML file: ../src/gen3schemadev/schema/gen3_metaschema.yml\n",
      "2025-09-30 13:23:47,223 [INFO] Successfully loaded YAML file: ../tests/input_example.yml\n"
     ]
    }
   ],
   "source": [
    "from gen3schemadev.schema.gen3_template import *\n",
    "from gen3schemadev.utils import *\n",
    "from gen3schemadev.schema.input_schema import DataModel\n",
    "import logging\n",
    "\n",
    "# Set up basic logging configuration\n",
    "logging.basicConfig(\n",
    "    level=logging.INFO,\n",
    "    format=\"%(asctime)s [%(levelname)s] %(message)s\"\n",
    ")\n",
    "logger = logging.getLogger(__name__)\n",
    "\n",
    "metaschema_path = \"../src/gen3schemadev/schema/gen3_metaschema.yml\"\n",
    "converter_template = generate_gen3_template(metaschema_path)\n",
    "metaschema = load_yaml(metaschema_path)\n",
    "\n",
    "# loading input example\n",
    "data = load_yaml('../tests/input_example.yml')\n",
    "validated_model = DataModel.model_validate(data)\n"
   ]
  },
  {
   "cell_type": "code",
   "execution_count": null,
   "id": "fb5d4fa8",
   "metadata": {},
   "outputs": [],
   "source": [
    "converter_template"
   ]
  },
  {
   "cell_type": "code",
   "execution_count": null,
   "id": "286a9960",
   "metadata": {},
   "outputs": [],
   "source": [
    "metaschema"
   ]
  },
  {
   "cell_type": "code",
   "execution_count": null,
   "id": "fa9dfccb",
   "metadata": {},
   "outputs": [],
   "source": [
    "validated_model.model_dump()"
   ]
  },
  {
   "cell_type": "markdown",
   "id": "eee5930d",
   "metadata": {},
   "source": [
    "Now we need to read to:\n",
    "1. validate the input yaml against the input metaschema\n",
    "2. now we know the input yaml is validated, we can extract the data from the yaml into a data class which has the structure `input.entity.properties.links`\n",
    "3. We then use the data class to populated the converter template for each entity\n",
    "4. The populated templates are then written to the output directory\n"
   ]
  },
  {
   "cell_type": "markdown",
   "id": "234d581f",
   "metadata": {},
   "source": []
  },
  {
   "cell_type": "code",
   "execution_count": 6,
   "id": "96f62327",
   "metadata": {},
   "outputs": [
    {
     "ename": "Exception",
     "evalue": "No properties found for entity lipidomics_file",
     "output_type": "error",
     "traceback": [
      "\u001b[0;31m---------------------------------------------------------------------------\u001b[0m",
      "\u001b[0;31mException\u001b[0m                                 Traceback (most recent call last)",
      "Cell \u001b[0;32mIn[6], line 189\u001b[0m\n\u001b[1;32m    183\u001b[0m validated_model \u001b[38;5;241m=\u001b[39m DataModel\u001b[38;5;241m.\u001b[39mmodel_validate(data)\n\u001b[1;32m    184\u001b[0m \u001b[38;5;66;03m# links = get_entity_links('lipidomics_file', validated_model)\u001b[39;00m\n\u001b[1;32m    185\u001b[0m \u001b[38;5;66;03m# convert_entity_links(links, entity_file=True)\u001b[39;00m\n\u001b[1;32m    186\u001b[0m \u001b[38;5;66;03m# get_properties('sample', validated_model)\u001b[39;00m\n\u001b[1;32m    187\u001b[0m \u001b[38;5;66;03m# get_category('sample', validated_model)\u001b[39;00m\n\u001b[0;32m--> 189\u001b[0m out_template \u001b[38;5;241m=\u001b[39m \u001b[43mpopulate_template\u001b[49m\u001b[43m(\u001b[49m\u001b[38;5;124;43m'\u001b[39;49m\u001b[38;5;124;43mlipidomics_file\u001b[39;49m\u001b[38;5;124;43m'\u001b[39;49m\u001b[43m,\u001b[49m\u001b[43m \u001b[49m\u001b[43mvalidated_model\u001b[49m\u001b[43m,\u001b[49m\u001b[43m \u001b[49m\u001b[43mconverter_template\u001b[49m\u001b[43m)\u001b[49m\n\u001b[1;32m    190\u001b[0m out_template\n\u001b[1;32m    191\u001b[0m \u001b[38;5;66;03m# write_yaml(out_template, 'output.yml')\u001b[39;00m\n",
      "Cell \u001b[0;32mIn[6], line 173\u001b[0m, in \u001b[0;36mpopulate_template\u001b[0;34m(entity_name, input_data, template)\u001b[0m\n\u001b[1;32m    171\u001b[0m     output_schema[key] \u001b[38;5;241m=\u001b[39m get_category(entity_name, input_data)\n\u001b[1;32m    172\u001b[0m \u001b[38;5;28;01melif\u001b[39;00m key \u001b[38;5;241m==\u001b[39m \u001b[38;5;124m'\u001b[39m\u001b[38;5;124mproperties\u001b[39m\u001b[38;5;124m'\u001b[39m:\n\u001b[0;32m--> 173\u001b[0m     output_schema[key] \u001b[38;5;241m=\u001b[39m \u001b[43mget_properties\u001b[49m\u001b[43m(\u001b[49m\u001b[43mentity_name\u001b[49m\u001b[43m,\u001b[49m\u001b[43m \u001b[49m\u001b[43minput_data\u001b[49m\u001b[43m)\u001b[49m\n\u001b[1;32m    174\u001b[0m \u001b[38;5;28;01melif\u001b[39;00m key \u001b[38;5;241m==\u001b[39m \u001b[38;5;124m'\u001b[39m\u001b[38;5;124mlinks\u001b[39m\u001b[38;5;124m'\u001b[39m:\n\u001b[1;32m    175\u001b[0m     links \u001b[38;5;241m=\u001b[39m get_entity_links(entity_name, input_data)\n",
      "Cell \u001b[0;32mIn[6], line 108\u001b[0m, in \u001b[0;36mget_properties\u001b[0;34m(entity_name, data)\u001b[0m\n\u001b[1;32m    106\u001b[0m         output\u001b[38;5;241m.\u001b[39mappend(pdict)\n\u001b[1;32m    107\u001b[0m \u001b[38;5;28;01melse\u001b[39;00m:\n\u001b[0;32m--> 108\u001b[0m     \u001b[38;5;28;01mraise\u001b[39;00m \u001b[38;5;167;01mException\u001b[39;00m(\u001b[38;5;124mf\u001b[39m\u001b[38;5;124m'\u001b[39m\u001b[38;5;124mNo properties found for entity \u001b[39m\u001b[38;5;132;01m{\u001b[39;00mentity_name\u001b[38;5;132;01m}\u001b[39;00m\u001b[38;5;124m'\u001b[39m)\n\u001b[1;32m    109\u001b[0m \u001b[38;5;28;01mreturn\u001b[39;00m output\n",
      "\u001b[0;31mException\u001b[0m: No properties found for entity lipidomics_file"
     ]
    }
   ],
   "source": [
    "from dataclasses import dataclass\n",
    "class Entity:\n",
    "    name: str\n",
    "    description: str\n",
    "    category: str\n",
    "    properties: list\n",
    "    links: list\n",
    "\n",
    "from typing import Any\n",
    "\n",
    "def get_entity_data(entity: str, data: Any) -> Entity:\n",
    "    try:\n",
    "        for ent in data.entities:\n",
    "            if ent.name == entity:\n",
    "                return ent\n",
    "        raise ValueError(f\"Entity '{entity}' not found in data.entities\")\n",
    "    except AttributeError as e:\n",
    "        raise AttributeError(f\"Invalid data structure: {e}\")\n",
    "    except Exception as e:\n",
    "        raise Exception(f\"An error occurred while retrieving entity data: {e}\")\n",
    "\n",
    "def get_entity_links(entity: str, data: Any) -> list[dict]:\n",
    "    links = data.links\n",
    "    entity_links = []\n",
    "    for link in links:\n",
    "        if link.child == entity:\n",
    "            entity_links.append(link.model_dump())\n",
    "    return entity_links\n",
    "\n",
    "\n",
    "\n",
    "from dataclasses import dataclass, asdict\n",
    "from typing import Optional, List, Union\n",
    "\n",
    "@dataclass\n",
    "class LinkObj:\n",
    "    name: str\n",
    "    backref: str\n",
    "    label: Optional[str]\n",
    "    target_type: str\n",
    "    multiplicity: str\n",
    "    required: bool\n",
    "\n",
    "    def to_dict(self):\n",
    "        return asdict(self)\n",
    "\n",
    "@dataclass\n",
    "class LinkGroup:\n",
    "    exclusive: bool\n",
    "    required: bool\n",
    "    subgroup: List[dict]\n",
    "\n",
    "    def to_dict(self):\n",
    "        return asdict(self)\n",
    "    \n",
    "def create_core_metadata_link(child_name: str) -> dict:\n",
    "    link_obj = LinkObj(\n",
    "        name=f\"core_metadata_collections\",\n",
    "        backref=f\"{child_name}s\",\n",
    "        label=None,\n",
    "        target_type=\"core_metadata_collection\",\n",
    "        multiplicity=\"one_to_one\",\n",
    "        required=True \n",
    "    )\n",
    "    return link_obj.to_dict()\n",
    "\n",
    "def convert_entity_links(links: dict, entity_file: bool = False) -> dict:\n",
    "    link_list = []\n",
    "    for link in links:\n",
    "        link_obj = LinkObj(\n",
    "            name=f\"{link['parent']}s\",\n",
    "            backref=f\"{link['child']}s\",\n",
    "            label=None,\n",
    "            target_type=link['parent'],\n",
    "            multiplicity=link['multiplicity'],\n",
    "            required=True  # TODO remove this hard code later, should pull from input yaml\n",
    "        )\n",
    "        link_list.append(link_obj.to_dict())\n",
    "\n",
    "    if entity_file:\n",
    "        core_link = create_core_metadata_link(links[0]['child'])\n",
    "        link_list.append(core_link)\n",
    "\n",
    "    if len(link_list) > 1:\n",
    "        group = LinkGroup(\n",
    "            exclusive=False,\n",
    "            required=True,\n",
    "            subgroup=link_list\n",
    "        )\n",
    "        output = group.to_dict()\n",
    "    else:\n",
    "        output = link_list\n",
    "    return output\n",
    "\n",
    "### Note to self, you will now need to find a way to add in the _definitions and _terms references.\n",
    "### You also need to define a standard for the _definitions and _terms references files to read from as templates\n",
    "\n",
    "def get_properties(entity_name: str, data: Any) -> list[dict]:\n",
    "    output = []\n",
    "    ent = get_entity_data(entity_name, data)\n",
    "    props = ent.properties\n",
    "    if props:\n",
    "        for prop in props:\n",
    "            pdict = {\n",
    "                prop.name: {k: v for k, v in prop.model_dump().items() if k != \"name\"}\n",
    "            }\n",
    "            output.append(pdict)\n",
    "    else:\n",
    "        raise Exception(f'No properties found for entity {entity_name}')\n",
    "    return output\n",
    "\n",
    "\n",
    "def get_category(entity_name: str, data: Any) -> str:\n",
    "    ent = get_entity_data(entity_name, data)\n",
    "    category = ent.category\n",
    "    # If it's an Enum, get its value; otherwise, return as is\n",
    "    if hasattr(category, \"value\"):\n",
    "        return category.value\n",
    "    return category\n",
    "\n",
    "def get_entity_value(entity_name: str, key: str, data: Any):\n",
    "    \"\"\"\n",
    "    Returns the value of a single key within an entity object.\n",
    "\n",
    "    Args:\n",
    "        entity_name (str): The name of the entity to retrieve.\n",
    "        key (str): The key whose value is to be returned.\n",
    "        data (Any): The data structure containing entities.\n",
    "\n",
    "    Returns:\n",
    "        The value associated with the specified key in the entity object.\n",
    "    \"\"\"\n",
    "    ent = get_entity_data(entity_name, data)\n",
    "    return ent.model_dump()[key]\n",
    "\n",
    "\n",
    "def populate_template(entity_name: str, input_data, template) -> dict:\n",
    "    \"\"\"\n",
    "    Populate a Gen3 schema template dictionary with values from a Pydantic data model.\n",
    "\n",
    "    This function takes an entity name, a Pydantic model instance containing entity data,\n",
    "    and a Gen3 schema template dictionary. It fills a copy of the template with values\n",
    "    from the input data, applying special logic for certain keys (e.g., 'name', 'category',\n",
    "    'properties', 'links'). If a key from the input data is not found in the template,\n",
    "    it is added with a value of None and a warning is logged.\n",
    "\n",
    "    Args:\n",
    "        entity_name (str): The name of the entity to populate in the template.\n",
    "        input_data: A Pydantic model instance containing the entity's data.\n",
    "        template (dict): A Gen3 schema template dictionary to be populated.\n",
    "\n",
    "    Returns:\n",
    "        dict: A new Gen3 schema template dictionary populated with values from the input data.\n",
    "\n",
    "    Side Effects:\n",
    "        Logs a warning if a key from the input data is not found in the template.\n",
    "    \"\"\"\n",
    "    # ... function body ...\n",
    "    ent = get_entity_data(entity_name, input_data)\n",
    "    ent_dict = ent.model_dump()\n",
    "    output_schema = template.copy()\n",
    "    \n",
    "    # Checking if entity is file category\n",
    "    file_cat = False\n",
    "    if get_entity_value(entity_name, 'category', input_data) == 'file':\n",
    "        file_cat = True\n",
    "    \n",
    "    for key, value in ent_dict.items():\n",
    "        if key == 'name':\n",
    "            output_schema['id'] = value\n",
    "        elif key == 'category':\n",
    "            output_schema[key] = get_category(entity_name, input_data)\n",
    "        elif key == 'properties':\n",
    "            output_schema[key] = get_properties(entity_name, input_data)\n",
    "        elif key == 'links':\n",
    "            links = get_entity_links(entity_name, input_data)\n",
    "            output_schema[key] = convert_entity_links(links, entity_file=file_cat)\n",
    "        elif key in output_schema:\n",
    "            output_schema[key] = value\n",
    "        else:\n",
    "            logger.warning(f\"Key '{key}' not found in template\")\n",
    "    return output_schema\n",
    "\n",
    "validated_model = DataModel.model_validate(data)\n",
    "# links = get_entity_links('lipidomics_file', validated_model)\n",
    "# convert_entity_links(links, entity_file=True)\n",
    "# get_properties('sample', validated_model)\n",
    "# get_category('sample', validated_model)\n",
    "\n",
    "out_template = populate_template('lipidomics_file', validated_model, converter_template)\n",
    "out_template\n",
    "# write_yaml(out_template, 'output.yml')"
   ]
  },
  {
   "cell_type": "markdown",
   "id": "bb3abe1d",
   "metadata": {},
   "source": [
    "# Testing converter\n"
   ]
  },
  {
   "cell_type": "code",
   "execution_count": 3,
   "id": "6a14aa6d",
   "metadata": {},
   "outputs": [
    {
     "name": "stderr",
     "output_type": "stream",
     "text": [
      "2025-09-30 16:36:47,338 [INFO] Successfully loaded YAML file: ../src/gen3schemadev/schema/gen3_metaschema.yml\n"
     ]
    },
    {
     "name": "stderr",
     "output_type": "stream",
     "text": [
      "2025-09-30 16:36:47,355 [INFO] Successfully loaded YAML file: ../src/gen3schemadev/schema/gen3_metaschema.yml\n",
      "2025-09-30 16:36:47,362 [INFO] Successfully loaded YAML file: ../tests/input_example.yml\n",
      "2025-09-30 16:36:47,363 [WARNING] No properties found for entity lipidomics_file\n",
      "2025-09-30 16:36:47,384 [INFO] Successfully wrote YAML file: output.yml\n"
     ]
    },
    {
     "name": "stdout",
     "output_type": "stream",
     "text": [
      "Key: name, Value: lipidomics_file\n",
      "Key: description, Value: Info about lipidomics file\n",
      "Key: category, Value: data_file\n",
      "Key: properties, Value: []\n"
     ]
    }
   ],
   "source": [
    "from gen3schemadev.schema.gen3_template import *\n",
    "from gen3schemadev.utils import *\n",
    "from gen3schemadev.schema.input_schema import DataModel\n",
    "from gen3schemadev.converter import *\n",
    "\n",
    "\n",
    "\n",
    "# Loading template and metaschema\n",
    "metaschema_path = \"../src/gen3schemadev/schema/gen3_metaschema.yml\"\n",
    "converter_template = generate_gen3_template(metaschema_path)\n",
    "metaschema = load_yaml(metaschema_path)\n",
    "\n",
    "# loading input example\n",
    "data = load_yaml('../tests/input_example.yml')\n",
    "validated_model = DataModel.model_validate(data)\n",
    "\n",
    "\n",
    "out_template = populate_template('lipidomics_file', validated_model, converter_template)\n",
    "write_yaml(out_template, 'output.yml')"
   ]
  },
  {
   "cell_type": "code",
   "execution_count": 2,
   "id": "ca2c83ee",
   "metadata": {},
   "outputs": [
    {
     "name": "stderr",
     "output_type": "stream",
     "text": [
      "2025-09-30 16:35:46,694 [WARNING] No properties found for entity lipidomics_file\n",
      "2025-09-30 16:35:46,695 [WARNING] No properties found for entity lipidomics_file\n"
     ]
    },
    {
     "data": {
      "text/plain": [
       "{'samples': {'$ref': '_definitions.yaml#/one_to_many'},\n",
       " 'assays': {'$ref': '_definitions.yaml#/one_to_many'}}"
      ]
     },
     "execution_count": 2,
     "metadata": {},
     "output_type": "execute_result"
    }
   ],
   "source": [
    "get_properties('lipidomics_file', validated_model)\n",
    "construct_props('lipidomics_file', validated_model)\n"
   ]
  },
  {
   "cell_type": "code",
   "execution_count": 2,
   "id": "9f4b42cb",
   "metadata": {},
   "outputs": [
    {
     "data": {
      "text/plain": [
       "Entity(name='lipidomics_file', description='Info about lipidomics file', category=<CategoryEnum.DATA_FILE: 'data_file'>, properties=[])"
      ]
     },
     "execution_count": 2,
     "metadata": {},
     "output_type": "execute_result"
    }
   ],
   "source": [
    "get_entity_data('lipidomics_file', validated_model)"
   ]
  },
  {
   "cell_type": "code",
   "execution_count": 2,
   "id": "19335da3",
   "metadata": {},
   "outputs": [
    {
     "data": {
      "text/plain": [
       "True"
      ]
     },
     "execution_count": 2,
     "metadata": {},
     "output_type": "execute_result"
    }
   ],
   "source": [
    "links = get_entity_links('lipidomics_file', validated_model)\n",
    "convert_entity_links(links, entity_file=True)\n",
    "get_entity_value('lipidomics_file', 'category', validated_model) == 'data_file'"
   ]
  },
  {
   "cell_type": "markdown",
   "id": "1226c5de",
   "metadata": {},
   "source": [
    "***\n",
    "## Trying to create template from metaschema\n"
   ]
  },
  {
   "cell_type": "code",
   "execution_count": null,
   "id": "0dc80133",
   "metadata": {},
   "outputs": [],
   "source": [
    "from gen3schemadev.schema.gen3_template import *\n",
    "\n",
    "out_template = generate_gen3_template('../src/gen3schemadev/schema/gen3_metaschema.yml')\n",
    "\n",
    "write_yaml(out_template, 'output.yml')"
   ]
  }
 ],
 "metadata": {
  "kernelspec": {
   "display_name": ".venv",
   "language": "python",
   "name": "python3"
  },
  "language_info": {
   "codemirror_mode": {
    "name": "ipython",
    "version": 3
   },
   "file_extension": ".py",
   "mimetype": "text/x-python",
   "name": "python",
   "nbconvert_exporter": "python",
   "pygments_lexer": "ipython3",
   "version": "3.9.5"
  }
 },
 "nbformat": 4,
 "nbformat_minor": 5
}
