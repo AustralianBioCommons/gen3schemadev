{
 "cells": [
  {
   "cell_type": "markdown",
   "metadata": {},
   "source": [
    "# "
   ]
  },
  {
   "cell_type": "markdown",
   "metadata": {},
   "source": [
    "# Generating synthetic data for ACDC\n",
    "- This jupyter note book will run through set up and execution for generating synthetic data for the acdc project"
   ]
  },
  {
   "cell_type": "code",
   "execution_count": 3,
   "metadata": {
    "vscode": {
     "languageId": "shellscript"
    }
   },
   "outputs": [
    {
     "name": "stdout",
     "output_type": "stream",
     "text": [
      "LICENSE                        populate_metadata_service.py\n",
      "Readme.md                      requirements.txt\n",
      "\u001b[1m\u001b[36mconfigs\u001b[m\u001b[m/                       \u001b[1m\u001b[36mschema\u001b[m\u001b[m/\n",
      "datas_submittor.py             \u001b[1m\u001b[36mschema_out\u001b[m\u001b[m/\n",
      "delete_files.py                \u001b[1m\u001b[36mscripts\u001b[m\u001b[m/\n",
      "delete_projects.py             setup.py\n",
      "\u001b[1m\u001b[36mfile_type_templates\u001b[m\u001b[m/           sheet2yaml-CLI.py\n",
      "fix_links.py                   sheet2yaml.py\n",
      "\u001b[1m\u001b[36mgen3schemadev\u001b[m\u001b[m/                 transform_ausdiab.py\n",
      "gen_acdc_synthetic_data.ipynb  \u001b[1m\u001b[36musers\u001b[m\u001b[m/\n",
      "plausible_data_gen.py          users.yaml\n"
     ]
    }
   ],
   "source": [
    "!git clone https://github.com/AustralianBioCommons/gen3schemadev.git\n",
    "!cd ./gen3schemadev\n",
    "!python3 -m venv .venv\n",
    "!source .venv/bin/activate\n",
    "!pip3 install -r requirements.txt"
   ]
  },
  {
   "cell_type": "code",
   "execution_count": 5,
   "metadata": {
    "vscode": {
     "languageId": "shellscript"
    }
   },
   "outputs": [],
   "source": [
    "!python3 sheet2yaml.py\n",
    "!mkdir schema_out_acdc\n",
    "!mv schema_out/* schema_out_acdc/\n"
   ]
  },
  {
   "cell_type": "code",
   "execution_count": 16,
   "metadata": {
    "vscode": {
     "languageId": "shellscript"
    }
   },
   "outputs": [
    {
     "name": "stdout",
     "output_type": "stream",
     "text": [
      "\n"
     ]
    }
   ],
   "source": [
    "!path_umccr_dict=\"$(pwd)/../umccr-dictionary\"\n",
    "!git clone https://github.com/umccr/umccr-dictionary.git \"$(pwd)/../\"\n",
    "!echo ${path_umccr_dict}\n"
   ]
  },
  {
   "cell_type": "code",
   "execution_count": 1,
   "metadata": {},
   "outputs": [],
   "source": [
    "import os"
   ]
  },
  {
   "cell_type": "code",
   "execution_count": 2,
   "metadata": {},
   "outputs": [
    {
     "name": "stdout",
     "output_type": "stream",
     "text": [
      "/Users/harrijh/Library/CloudStorage/GoogleDrive-joshua@biocommons.org.au/My Drive/projects/gen3schemadev\n"
     ]
    }
   ],
   "source": [
    "current_dir = os.getcwd()"
   ]
  }
 ],
 "metadata": {
  "kernelspec": {
   "display_name": ".venv",
   "language": "python",
   "name": "python3"
  },
  "language_info": {
   "codemirror_mode": {
    "name": "ipython",
    "version": 3
   },
   "file_extension": ".py",
   "mimetype": "text/x-python",
   "name": "python",
   "nbconvert_exporter": "python",
   "pygments_lexer": "ipython3",
   "version": "3.9.6"
  }
 },
 "nbformat": 4,
 "nbformat_minor": 2
}
